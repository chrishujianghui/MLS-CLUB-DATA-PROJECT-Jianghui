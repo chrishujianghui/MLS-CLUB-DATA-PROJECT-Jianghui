{
 "cells": [
  {
   "cell_type": "code",
   "execution_count": 1,
   "id": "dcc88b4e",
   "metadata": {},
   "outputs": [],
   "source": [
    "import csv\n",
    "import json\n",
    "\n",
    "# Load the data from the CSV file\n",
    "import pandas as pd\n",
    "df_csv = pd.read_csv('/Users/chrishu/Desktop/MLS/tracking_data.csv')\n",
    "\n",
    "\n",
    "# Load the data from the JSON file\n",
    "with open('/Users/chrishu/Desktop/MLS/metadata.json', 'r') as f:\n",
    "    data_json = json.load(f)\n",
    "\n",
    "home_players = data_json['homePlayers']\n",
    "df_home = pd.DataFrame(home_players)\n",
    "data = pd.merge(df_csv, df_home, left_on='player_number', right_on='number')"
   ]
  },
  {
   "cell_type": "code",
   "execution_count": 2,
   "id": "3267c106",
   "metadata": {},
   "outputs": [
    {
     "data": {
      "text/plain": [
       "array([1, 2])"
      ]
     },
     "execution_count": 2,
     "metadata": {},
     "output_type": "execute_result"
    }
   ],
   "source": [
    "data['period_id'].unique()"
   ]
  },
  {
   "cell_type": "code",
   "execution_count": 3,
   "id": "8126f73f",
   "metadata": {},
   "outputs": [],
   "source": [
    "# Keep only home players\n",
    "data = data[data['team_id'] == 6900]\n"
   ]
  },
  {
   "cell_type": "code",
   "execution_count": 4,
   "id": "055345d0",
   "metadata": {},
   "outputs": [
    {
     "data": {
      "text/plain": [
       "array([246099, 443002])"
      ]
     },
     "execution_count": 4,
     "metadata": {},
     "output_type": "execute_result"
    }
   ],
   "source": [
    "# Get left or right back\n",
    "data_filter = data[(data['position'] == \"LB\") | (data['position'] == \"RB\")]\n",
    "data_filter[\"player_id\"].unique()"
   ]
  },
  {
   "cell_type": "code",
   "execution_count": 5,
   "id": "6829151a",
   "metadata": {},
   "outputs": [
    {
     "data": {
      "text/plain": [
       "array(['Ruan', 'Joao Moutinho'], dtype=object)"
      ]
     },
     "execution_count": 5,
     "metadata": {},
     "output_type": "execute_result"
    }
   ],
   "source": [
    "data_filter[\"name\"].unique()"
   ]
  },
  {
   "cell_type": "code",
   "execution_count": 6,
   "id": "a7e521af",
   "metadata": {},
   "outputs": [],
   "source": [
    "import pandas as pd\n",
    "import numpy as np\n",
    "\n",
    "# offset the position reversing\n",
    "def adjust_positions_for_period(period_id, x):\n",
    "    if period_id == 2:\n",
    "        return x\n",
    "    else:\n",
    "        return -x\n",
    "\n",
    "def count_overlaps(fullback_data, all_players_data):\n",
    "    \n",
    "    # Get frames where the fullback's team is in possession\n",
    "    in_possession = all_players_data[all_players_data['last_touch_team_id'] == fullback_data.iloc[0]['team_id']]\n",
    "\n",
    "    # Adjust positions based on period_id\n",
    "    fullback_data['x_adjusted'] = fullback_data.apply(lambda row: adjust_positions_for_period(row['period_id'], row['x']), axis=1)\n",
    "    all_players_data['x_adjusted'] = all_players_data.apply(lambda row: adjust_positions_for_period(row['period_id'], row['x']), axis=1)\n",
    "    \n",
    "    # Get fullback and teammates positions when the team is in possession\n",
    "    fullback_positions = fullback_data[fullback_data['frame_idx'].isin(in_possession['frame_idx'])]\n",
    "    teammate_positions = in_possession[in_possession['player_id'] != fullback_data.iloc[0]['player_id']]\n",
    "\n",
    "    # Merge fullback and teammate positions\n",
    "    merged_positions = fullback_positions.merge(teammate_positions, on='frame_idx', suffixes=('_fb', '_tm'))\n",
    "    merged_positions.rename(columns={'x_adjusted_x': 'x_adjusted_fb', 'x_adjusted_y': 'x_adjusted_tm'}, inplace=True)\n",
    "\n",
    "    # Find overlapping positions\n",
    "    same_side = np.sign(merged_positions['y_fb'].values) == np.sign(merged_positions['y_tm'].values)\n",
    "    ahead_of_teammate = merged_positions['x_adjusted_fb'].values > merged_positions['x_adjusted_tm'].values\n",
    "    ahead_of_ball = merged_positions['x_adjusted_fb'].values > merged_positions['ball_x_fb'].values\n",
    "\n",
    "    # Count overlapping positions\n",
    "    overlaps = np.sum(same_side & ahead_of_teammate & ahead_of_ball)\n",
    "\n",
    "    return overlaps\n"
   ]
  },
  {
   "cell_type": "code",
   "execution_count": 8,
   "id": "a682c463",
   "metadata": {},
   "outputs": [
    {
     "name": "stdout",
     "output_type": "stream",
     "text": [
      "{246099: 88701, 443002: 52531}\n"
     ]
    }
   ],
   "source": [
    "def main():\n",
    "    fullback_ids = [246099, 443002]\n",
    "    fullback_overlaps = {}\n",
    "\n",
    "    fullback_data = data[data['player_id'].isin(fullback_ids)]\n",
    "\n",
    "    for player_id in fullback_ids:\n",
    "        player_data = fullback_data[fullback_data['player_id'] == player_id]\n",
    "        player_data = player_data.sort_values(by=['period_id', 'frame_idx'])\n",
    "        fullback_overlaps[player_id] = count_overlaps(player_data, data)\n",
    "        \n",
    "    print(fullback_overlaps)\n",
    "\n",
    "\n",
    "if __name__ == \"__main__\":\n",
    "    main()"
   ]
  }
 ],
 "metadata": {
  "kernelspec": {
   "display_name": "Python 3 (ipykernel)",
   "language": "python",
   "name": "python3"
  },
  "language_info": {
   "codemirror_mode": {
    "name": "ipython",
    "version": 3
   },
   "file_extension": ".py",
   "mimetype": "text/x-python",
   "name": "python",
   "nbconvert_exporter": "python",
   "pygments_lexer": "ipython3",
   "version": "3.9.12"
  }
 },
 "nbformat": 4,
 "nbformat_minor": 5
}
